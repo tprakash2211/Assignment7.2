{
 "cells": [
  {
   "cell_type": "code",
   "execution_count": null,
   "metadata": {
    "collapsed": true
   },
   "outputs": [],
   "source": [
    "# Problem Statement 1:\n",
    "# A die marked A to E is rolled 50 times. Find the probability of getting a “D” exactly 5 times.\n",
    "\n",
    "Step 1: Determine the Formula:\n",
    "Binomial Distribution: Bernoulli trials where n = 1\n",
    "n = number of trials attempted, \n",
    "k = number of successes in ‘n’ trials\n",
    "n - k = number of failures\n",
    "s = probability of success in a trial\n",
    "(1 - s) = probability of failure\n",
    "\n",
    "P (‘k’ successes in ‘n’ trials) = C(n,k)*(s^k)*((1−s)^(n−k))\n",
    "where, \n",
    "C (n, k) = n!/(k!(n−k)!)\n",
    "\n",
    "Step 2: Formula substitution:\n",
    "        \n",
    "n = 50\n",
    "k = 5 \n",
    "n - k = 50 - 5 = 45\n",
    "\n",
    "s = (1/5), where probability of success of getting D\n",
    "1 - s = 1 - (1/5) = (4/5), where probability of failure of getting D\n",
    "\n",
    "Therefore the binomial distribution is P (getting D, 5 times when rolled 50 times) = C (50,5) * ((1/5)^5) * ((4/5)^45)\n",
    "\n",
    "= P (5 out of 20) = (20∗19∗18∗17∗16)/(5∗4∗3∗2∗1) * (1/5)^5 * (4/5)^45\n",
    "\n",
    "= 2.16 * 10^(-4) = 0.000216"
   ]
  }
 ],
 "metadata": {
  "kernelspec": {
   "display_name": "Python 3",
   "language": "python",
   "name": "python3"
  },
  "language_info": {
   "codemirror_mode": {
    "name": "ipython",
    "version": 3
   },
   "file_extension": ".py",
   "mimetype": "text/x-python",
   "name": "python",
   "nbconvert_exporter": "python",
   "pygments_lexer": "ipython3",
   "version": "3.6.3"
  }
 },
 "nbformat": 4,
 "nbformat_minor": 2
}
